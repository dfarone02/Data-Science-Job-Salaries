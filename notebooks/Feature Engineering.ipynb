{
 "cells": [
  {
   "cell_type": "code",
   "execution_count": 1,
   "metadata": {},
   "outputs": [
    {
     "data": {
      "text/html": [
       "<style>.container { width:95% !important; }</style>"
      ],
      "text/plain": [
       "<IPython.core.display.HTML object>"
      ]
     },
     "metadata": {},
     "output_type": "display_data"
    }
   ],
   "source": [
    "#import all of the required libraries to run this notebook\n",
    "import sys\n",
    "sys.path.append(\"C:/Users/Danny Farone/Documents/GitHub/Data-Science-Job-Salaries/src/\")\n",
    "from required_libraries import *"
   ]
  },
  {
   "cell_type": "code",
   "execution_count": 2,
   "metadata": {},
   "outputs": [
    {
     "data": {
      "text/html": [
       "<div>\n",
       "<style scoped>\n",
       "    .dataframe tbody tr th:only-of-type {\n",
       "        vertical-align: middle;\n",
       "    }\n",
       "\n",
       "    .dataframe tbody tr th {\n",
       "        vertical-align: top;\n",
       "    }\n",
       "\n",
       "    .dataframe thead th {\n",
       "        text-align: right;\n",
       "    }\n",
       "</style>\n",
       "<table border=\"1\" class=\"dataframe\">\n",
       "  <thead>\n",
       "    <tr style=\"text-align: right;\">\n",
       "      <th></th>\n",
       "      <th>work_year</th>\n",
       "      <th>experience_level</th>\n",
       "      <th>employment_type</th>\n",
       "      <th>job_title</th>\n",
       "      <th>salary</th>\n",
       "      <th>salary_currency</th>\n",
       "      <th>salary_in_usd</th>\n",
       "      <th>employee_residence</th>\n",
       "      <th>remote_ratio</th>\n",
       "      <th>company_location</th>\n",
       "      <th>company_size</th>\n",
       "    </tr>\n",
       "  </thead>\n",
       "  <tbody>\n",
       "    <tr>\n",
       "      <th>0</th>\n",
       "      <td>2020</td>\n",
       "      <td>MI</td>\n",
       "      <td>FT</td>\n",
       "      <td>Data Analyst</td>\n",
       "      <td>98000</td>\n",
       "      <td>USD</td>\n",
       "      <td>98000</td>\n",
       "      <td>US</td>\n",
       "      <td>0</td>\n",
       "      <td>US</td>\n",
       "      <td>M</td>\n",
       "    </tr>\n",
       "    <tr>\n",
       "      <th>1</th>\n",
       "      <td>2021</td>\n",
       "      <td>EX</td>\n",
       "      <td>FT</td>\n",
       "      <td>Data Analyst</td>\n",
       "      <td>150000</td>\n",
       "      <td>USD</td>\n",
       "      <td>150000</td>\n",
       "      <td>IN</td>\n",
       "      <td>100</td>\n",
       "      <td>US</td>\n",
       "      <td>L</td>\n",
       "    </tr>\n",
       "    <tr>\n",
       "      <th>2</th>\n",
       "      <td>2021</td>\n",
       "      <td>MI</td>\n",
       "      <td>FT</td>\n",
       "      <td>Data Analyst</td>\n",
       "      <td>100000</td>\n",
       "      <td>USD</td>\n",
       "      <td>100000</td>\n",
       "      <td>US</td>\n",
       "      <td>100</td>\n",
       "      <td>US</td>\n",
       "      <td>M</td>\n",
       "    </tr>\n",
       "    <tr>\n",
       "      <th>3</th>\n",
       "      <td>2021</td>\n",
       "      <td>MI</td>\n",
       "      <td>FT</td>\n",
       "      <td>Data Analyst</td>\n",
       "      <td>11000000</td>\n",
       "      <td>HUF</td>\n",
       "      <td>36259</td>\n",
       "      <td>HU</td>\n",
       "      <td>50</td>\n",
       "      <td>US</td>\n",
       "      <td>L</td>\n",
       "    </tr>\n",
       "    <tr>\n",
       "      <th>4</th>\n",
       "      <td>2021</td>\n",
       "      <td>EN</td>\n",
       "      <td>FT</td>\n",
       "      <td>Data Analyst</td>\n",
       "      <td>55000</td>\n",
       "      <td>USD</td>\n",
       "      <td>55000</td>\n",
       "      <td>US</td>\n",
       "      <td>50</td>\n",
       "      <td>US</td>\n",
       "      <td>S</td>\n",
       "    </tr>\n",
       "    <tr>\n",
       "      <th>...</th>\n",
       "      <td>...</td>\n",
       "      <td>...</td>\n",
       "      <td>...</td>\n",
       "      <td>...</td>\n",
       "      <td>...</td>\n",
       "      <td>...</td>\n",
       "      <td>...</td>\n",
       "      <td>...</td>\n",
       "      <td>...</td>\n",
       "      <td>...</td>\n",
       "      <td>...</td>\n",
       "    </tr>\n",
       "    <tr>\n",
       "      <th>601</th>\n",
       "      <td>2021</td>\n",
       "      <td>MI</td>\n",
       "      <td>FT</td>\n",
       "      <td>Machine Learning Engineer</td>\n",
       "      <td>81000</td>\n",
       "      <td>EUR</td>\n",
       "      <td>95746</td>\n",
       "      <td>DE</td>\n",
       "      <td>100</td>\n",
       "      <td>US</td>\n",
       "      <td>S</td>\n",
       "    </tr>\n",
       "    <tr>\n",
       "      <th>602</th>\n",
       "      <td>2022</td>\n",
       "      <td>EN</td>\n",
       "      <td>FT</td>\n",
       "      <td>Machine Learning Engineer</td>\n",
       "      <td>150000</td>\n",
       "      <td>USD</td>\n",
       "      <td>150000</td>\n",
       "      <td>AU</td>\n",
       "      <td>100</td>\n",
       "      <td>AU</td>\n",
       "      <td>S</td>\n",
       "    </tr>\n",
       "    <tr>\n",
       "      <th>603</th>\n",
       "      <td>2022</td>\n",
       "      <td>MI</td>\n",
       "      <td>FT</td>\n",
       "      <td>Machine Learning Engineer</td>\n",
       "      <td>50000</td>\n",
       "      <td>EUR</td>\n",
       "      <td>54957</td>\n",
       "      <td>GR</td>\n",
       "      <td>0</td>\n",
       "      <td>GR</td>\n",
       "      <td>M</td>\n",
       "    </tr>\n",
       "    <tr>\n",
       "      <th>604</th>\n",
       "      <td>2022</td>\n",
       "      <td>MI</td>\n",
       "      <td>FT</td>\n",
       "      <td>Machine Learning Engineer</td>\n",
       "      <td>50000</td>\n",
       "      <td>EUR</td>\n",
       "      <td>54957</td>\n",
       "      <td>GR</td>\n",
       "      <td>0</td>\n",
       "      <td>GR</td>\n",
       "      <td>M</td>\n",
       "    </tr>\n",
       "    <tr>\n",
       "      <th>605</th>\n",
       "      <td>2022</td>\n",
       "      <td>MI</td>\n",
       "      <td>FT</td>\n",
       "      <td>Machine Learning Engineer</td>\n",
       "      <td>240000</td>\n",
       "      <td>CNY</td>\n",
       "      <td>37236</td>\n",
       "      <td>US</td>\n",
       "      <td>50</td>\n",
       "      <td>US</td>\n",
       "      <td>L</td>\n",
       "    </tr>\n",
       "  </tbody>\n",
       "</table>\n",
       "<p>606 rows × 11 columns</p>\n",
       "</div>"
      ],
      "text/plain": [
       "     work_year experience_level employment_type                  job_title  \\\n",
       "0         2020               MI              FT               Data Analyst   \n",
       "1         2021               EX              FT               Data Analyst   \n",
       "2         2021               MI              FT               Data Analyst   \n",
       "3         2021               MI              FT               Data Analyst   \n",
       "4         2021               EN              FT               Data Analyst   \n",
       "..         ...              ...             ...                        ...   \n",
       "601       2021               MI              FT  Machine Learning Engineer   \n",
       "602       2022               EN              FT  Machine Learning Engineer   \n",
       "603       2022               MI              FT  Machine Learning Engineer   \n",
       "604       2022               MI              FT  Machine Learning Engineer   \n",
       "605       2022               MI              FT  Machine Learning Engineer   \n",
       "\n",
       "       salary salary_currency  salary_in_usd employee_residence  remote_ratio  \\\n",
       "0       98000             USD          98000                 US             0   \n",
       "1      150000             USD         150000                 IN           100   \n",
       "2      100000             USD         100000                 US           100   \n",
       "3    11000000             HUF          36259                 HU            50   \n",
       "4       55000             USD          55000                 US            50   \n",
       "..        ...             ...            ...                ...           ...   \n",
       "601     81000             EUR          95746                 DE           100   \n",
       "602    150000             USD         150000                 AU           100   \n",
       "603     50000             EUR          54957                 GR             0   \n",
       "604     50000             EUR          54957                 GR             0   \n",
       "605    240000             CNY          37236                 US            50   \n",
       "\n",
       "    company_location company_size  \n",
       "0                 US            M  \n",
       "1                 US            L  \n",
       "2                 US            M  \n",
       "3                 US            L  \n",
       "4                 US            S  \n",
       "..               ...          ...  \n",
       "601               US            S  \n",
       "602               AU            S  \n",
       "603               GR            M  \n",
       "604               GR            M  \n",
       "605               US            L  \n",
       "\n",
       "[606 rows x 11 columns]"
      ]
     },
     "execution_count": 2,
     "metadata": {},
     "output_type": "execute_result"
    }
   ],
   "source": [
    "#read the data science job salaries dataset from kaggle.com into a dataframe\n",
    "df = pd.read_csv(r'C:\\Users\\Danny Farone\\Documents\\GitHub\\Data-Science-Job-Salaries\\data\\external\\ds_salaries_external.csv', header = 0)\n",
    "df"
   ]
  },
  {
   "cell_type": "code",
   "execution_count": 3,
   "metadata": {},
   "outputs": [
    {
     "data": {
      "text/html": [
       "<div>\n",
       "<style scoped>\n",
       "    .dataframe tbody tr th:only-of-type {\n",
       "        vertical-align: middle;\n",
       "    }\n",
       "\n",
       "    .dataframe tbody tr th {\n",
       "        vertical-align: top;\n",
       "    }\n",
       "\n",
       "    .dataframe thead th {\n",
       "        text-align: right;\n",
       "    }\n",
       "</style>\n",
       "<table border=\"1\" class=\"dataframe\">\n",
       "  <thead>\n",
       "    <tr style=\"text-align: right;\">\n",
       "      <th></th>\n",
       "      <th>work_year</th>\n",
       "      <th>experience_level</th>\n",
       "      <th>employment_type</th>\n",
       "      <th>job_title</th>\n",
       "      <th>salary_currency</th>\n",
       "      <th>salary_in_usd</th>\n",
       "      <th>employee_residence</th>\n",
       "      <th>remote_ratio</th>\n",
       "      <th>company_location</th>\n",
       "      <th>company_size</th>\n",
       "    </tr>\n",
       "  </thead>\n",
       "  <tbody>\n",
       "    <tr>\n",
       "      <th>0</th>\n",
       "      <td>2020</td>\n",
       "      <td>MI</td>\n",
       "      <td>FT</td>\n",
       "      <td>Data Analyst</td>\n",
       "      <td>USD</td>\n",
       "      <td>98000</td>\n",
       "      <td>US</td>\n",
       "      <td>0</td>\n",
       "      <td>US</td>\n",
       "      <td>M</td>\n",
       "    </tr>\n",
       "    <tr>\n",
       "      <th>1</th>\n",
       "      <td>2021</td>\n",
       "      <td>EX</td>\n",
       "      <td>FT</td>\n",
       "      <td>Data Analyst</td>\n",
       "      <td>USD</td>\n",
       "      <td>150000</td>\n",
       "      <td>IN</td>\n",
       "      <td>100</td>\n",
       "      <td>US</td>\n",
       "      <td>L</td>\n",
       "    </tr>\n",
       "    <tr>\n",
       "      <th>2</th>\n",
       "      <td>2021</td>\n",
       "      <td>MI</td>\n",
       "      <td>FT</td>\n",
       "      <td>Data Analyst</td>\n",
       "      <td>USD</td>\n",
       "      <td>100000</td>\n",
       "      <td>US</td>\n",
       "      <td>100</td>\n",
       "      <td>US</td>\n",
       "      <td>M</td>\n",
       "    </tr>\n",
       "    <tr>\n",
       "      <th>3</th>\n",
       "      <td>2021</td>\n",
       "      <td>MI</td>\n",
       "      <td>FT</td>\n",
       "      <td>Data Analyst</td>\n",
       "      <td>HUF</td>\n",
       "      <td>36259</td>\n",
       "      <td>HU</td>\n",
       "      <td>50</td>\n",
       "      <td>US</td>\n",
       "      <td>L</td>\n",
       "    </tr>\n",
       "    <tr>\n",
       "      <th>4</th>\n",
       "      <td>2021</td>\n",
       "      <td>EN</td>\n",
       "      <td>FT</td>\n",
       "      <td>Data Analyst</td>\n",
       "      <td>USD</td>\n",
       "      <td>55000</td>\n",
       "      <td>US</td>\n",
       "      <td>50</td>\n",
       "      <td>US</td>\n",
       "      <td>S</td>\n",
       "    </tr>\n",
       "    <tr>\n",
       "      <th>...</th>\n",
       "      <td>...</td>\n",
       "      <td>...</td>\n",
       "      <td>...</td>\n",
       "      <td>...</td>\n",
       "      <td>...</td>\n",
       "      <td>...</td>\n",
       "      <td>...</td>\n",
       "      <td>...</td>\n",
       "      <td>...</td>\n",
       "      <td>...</td>\n",
       "    </tr>\n",
       "    <tr>\n",
       "      <th>601</th>\n",
       "      <td>2021</td>\n",
       "      <td>MI</td>\n",
       "      <td>FT</td>\n",
       "      <td>Machine Learning Engineer</td>\n",
       "      <td>EUR</td>\n",
       "      <td>95746</td>\n",
       "      <td>DE</td>\n",
       "      <td>100</td>\n",
       "      <td>US</td>\n",
       "      <td>S</td>\n",
       "    </tr>\n",
       "    <tr>\n",
       "      <th>602</th>\n",
       "      <td>2022</td>\n",
       "      <td>EN</td>\n",
       "      <td>FT</td>\n",
       "      <td>Machine Learning Engineer</td>\n",
       "      <td>USD</td>\n",
       "      <td>150000</td>\n",
       "      <td>AU</td>\n",
       "      <td>100</td>\n",
       "      <td>AU</td>\n",
       "      <td>S</td>\n",
       "    </tr>\n",
       "    <tr>\n",
       "      <th>603</th>\n",
       "      <td>2022</td>\n",
       "      <td>MI</td>\n",
       "      <td>FT</td>\n",
       "      <td>Machine Learning Engineer</td>\n",
       "      <td>EUR</td>\n",
       "      <td>54957</td>\n",
       "      <td>GR</td>\n",
       "      <td>0</td>\n",
       "      <td>GR</td>\n",
       "      <td>M</td>\n",
       "    </tr>\n",
       "    <tr>\n",
       "      <th>604</th>\n",
       "      <td>2022</td>\n",
       "      <td>MI</td>\n",
       "      <td>FT</td>\n",
       "      <td>Machine Learning Engineer</td>\n",
       "      <td>EUR</td>\n",
       "      <td>54957</td>\n",
       "      <td>GR</td>\n",
       "      <td>0</td>\n",
       "      <td>GR</td>\n",
       "      <td>M</td>\n",
       "    </tr>\n",
       "    <tr>\n",
       "      <th>605</th>\n",
       "      <td>2022</td>\n",
       "      <td>MI</td>\n",
       "      <td>FT</td>\n",
       "      <td>Machine Learning Engineer</td>\n",
       "      <td>CNY</td>\n",
       "      <td>37236</td>\n",
       "      <td>US</td>\n",
       "      <td>50</td>\n",
       "      <td>US</td>\n",
       "      <td>L</td>\n",
       "    </tr>\n",
       "  </tbody>\n",
       "</table>\n",
       "<p>606 rows × 10 columns</p>\n",
       "</div>"
      ],
      "text/plain": [
       "     work_year experience_level employment_type                  job_title  \\\n",
       "0         2020               MI              FT               Data Analyst   \n",
       "1         2021               EX              FT               Data Analyst   \n",
       "2         2021               MI              FT               Data Analyst   \n",
       "3         2021               MI              FT               Data Analyst   \n",
       "4         2021               EN              FT               Data Analyst   \n",
       "..         ...              ...             ...                        ...   \n",
       "601       2021               MI              FT  Machine Learning Engineer   \n",
       "602       2022               EN              FT  Machine Learning Engineer   \n",
       "603       2022               MI              FT  Machine Learning Engineer   \n",
       "604       2022               MI              FT  Machine Learning Engineer   \n",
       "605       2022               MI              FT  Machine Learning Engineer   \n",
       "\n",
       "    salary_currency  salary_in_usd employee_residence  remote_ratio  \\\n",
       "0               USD          98000                 US             0   \n",
       "1               USD         150000                 IN           100   \n",
       "2               USD         100000                 US           100   \n",
       "3               HUF          36259                 HU            50   \n",
       "4               USD          55000                 US            50   \n",
       "..              ...            ...                ...           ...   \n",
       "601             EUR          95746                 DE           100   \n",
       "602             USD         150000                 AU           100   \n",
       "603             EUR          54957                 GR             0   \n",
       "604             EUR          54957                 GR             0   \n",
       "605             CNY          37236                 US            50   \n",
       "\n",
       "    company_location company_size  \n",
       "0                 US            M  \n",
       "1                 US            L  \n",
       "2                 US            M  \n",
       "3                 US            L  \n",
       "4                 US            S  \n",
       "..               ...          ...  \n",
       "601               US            S  \n",
       "602               AU            S  \n",
       "603               GR            M  \n",
       "604               GR            M  \n",
       "605               US            L  \n",
       "\n",
       "[606 rows x 10 columns]"
      ]
     },
     "execution_count": 3,
     "metadata": {},
     "output_type": "execute_result"
    }
   ],
   "source": [
    "#drop the salary column because we are only interested in the USD salary\n",
    "df = df.drop(['salary'], axis = 1)\n",
    "df"
   ]
  },
  {
   "cell_type": "code",
   "execution_count": 4,
   "metadata": {},
   "outputs": [
    {
     "data": {
      "text/plain": [
       "work_year               3\n",
       "experience_level        4\n",
       "employment_type         4\n",
       "job_title               4\n",
       "salary_currency        17\n",
       "salary_in_usd         368\n",
       "employee_residence     57\n",
       "remote_ratio            3\n",
       "company_location       50\n",
       "company_size            3\n",
       "dtype: int64"
      ]
     },
     "execution_count": 4,
     "metadata": {},
     "output_type": "execute_result"
    }
   ],
   "source": [
    "#look at unique values for the categorical variables\n",
    "df.nunique()"
   ]
  },
  {
   "cell_type": "code",
   "execution_count": 5,
   "metadata": {},
   "outputs": [
    {
     "data": {
      "text/plain": [
       "SE    280\n",
       "MI    212\n",
       "EN     88\n",
       "EX     26\n",
       "Name: experience_level, dtype: int64"
      ]
     },
     "execution_count": 5,
     "metadata": {},
     "output_type": "execute_result"
    }
   ],
   "source": [
    "#look at unique values\n",
    "df['experience_level'].value_counts()"
   ]
  },
  {
   "cell_type": "code",
   "execution_count": 6,
   "metadata": {},
   "outputs": [
    {
     "data": {
      "text/plain": [
       "EN  EX  MI  SE\n",
       "0   0   0   1     280\n",
       "        1   0     212\n",
       "1   0   0   0      88\n",
       "0   1   0   0      26\n",
       "dtype: int64"
      ]
     },
     "execution_count": 6,
     "metadata": {},
     "output_type": "execute_result"
    }
   ],
   "source": [
    "df_experience_level = pd.DataFrame(df['experience_level'].value_counts().reset_index())\n",
    "\n",
    "experience_level_dummies = pd.get_dummies(df['experience_level'])\n",
    "#Concat the dummy variables to the main dataset\n",
    "df = pd.concat([df,experience_level_dummies], axis =1)\n",
    "#and drop the original variable from the data\n",
    "df = df.drop('experience_level', axis = 1)\n",
    "experience_level_dummies.value_counts()"
   ]
  },
  {
   "cell_type": "code",
   "execution_count": 7,
   "metadata": {},
   "outputs": [],
   "source": [
    "#rename the dummy variable columns so we know what they mean\n",
    "df = df.rename(columns={'EN' : 'Entry_Exp', 'EX' : 'Expert_Exp', 'MI' : 'Mid_Exp', 'SE' : ' Senior_Exp'})"
   ]
  },
  {
   "cell_type": "code",
   "execution_count": 9,
   "metadata": {},
   "outputs": [
    {
     "data": {
      "text/plain": [
       "FT    588\n",
       "PT      9\n",
       "CT      5\n",
       "FL      4\n",
       "Name: employment_type, dtype: int64"
      ]
     },
     "execution_count": 9,
     "metadata": {},
     "output_type": "execute_result"
    }
   ],
   "source": [
    "#look at unique values\n",
    "df['employment_type'].value_counts()"
   ]
  },
  {
   "cell_type": "code",
   "execution_count": 10,
   "metadata": {},
   "outputs": [],
   "source": [
    "#loop through the entire column to determine full time employee or not\n",
    "for i in range(len(df['employment_type'])):\n",
    "    if df['employment_type'][i] == 'FT':\n",
    "        df['employment_type'][i] = 1\n",
    "    else:\n",
    "        df['employment_type'][i] = 0"
   ]
  },
  {
   "cell_type": "code",
   "execution_count": 11,
   "metadata": {},
   "outputs": [
    {
     "data": {
      "text/plain": [
       "1    588\n",
       "0     18\n",
       "Name: employment_type, dtype: int64"
      ]
     },
     "execution_count": 11,
     "metadata": {},
     "output_type": "execute_result"
    }
   ],
   "source": [
    "#look at unique values\n",
    "df['employment_type'].value_counts()"
   ]
  },
  {
   "cell_type": "code",
   "execution_count": 13,
   "metadata": {},
   "outputs": [
    {
     "data": {
      "text/plain": [
       "Data Scientist               218\n",
       "Data Engineer                177\n",
       "Data Analyst                 131\n",
       "Machine Learning Engineer     80\n",
       "Name: job_title, dtype: int64"
      ]
     },
     "execution_count": 13,
     "metadata": {},
     "output_type": "execute_result"
    }
   ],
   "source": [
    "#look at unique values\n",
    "df['job_title'].value_counts()"
   ]
  },
  {
   "cell_type": "code",
   "execution_count": 14,
   "metadata": {},
   "outputs": [
    {
     "data": {
      "text/plain": [
       "Data Analyst  Data Engineer  Data Scientist  Machine Learning Engineer\n",
       "0             0              1               0                            218\n",
       "              1              0               0                            177\n",
       "1             0              0               0                            131\n",
       "0             0              0               1                             80\n",
       "dtype: int64"
      ]
     },
     "execution_count": 14,
     "metadata": {},
     "output_type": "execute_result"
    }
   ],
   "source": [
    "job_title = pd.DataFrame(df['job_title'].value_counts().reset_index())\n",
    "\n",
    "job_title_dummies = pd.get_dummies(df['job_title'])\n",
    "#Concat the dummy variables to the main dataset \n",
    "df = pd.concat([df, job_title_dummies], axis = 1)\n",
    "#and drop the original variable from the data\n",
    "df = df.drop('job_title', axis = 1)\n",
    "job_title_dummies.value_counts()"
   ]
  },
  {
   "cell_type": "code",
   "execution_count": 16,
   "metadata": {},
   "outputs": [
    {
     "data": {
      "text/plain": [
       "USD    398\n",
       "EUR     95\n",
       "GBP     44\n",
       "INR     26\n",
       "CAD     18\n",
       "JPY      3\n",
       "PLN      3\n",
       "TRY      3\n",
       "DKK      2\n",
       "AUD      2\n",
       "BRL      2\n",
       "MXN      2\n",
       "HUF      2\n",
       "SGD      2\n",
       "CNY      2\n",
       "CLP      1\n",
       "CHF      1\n",
       "Name: salary_currency, dtype: int64"
      ]
     },
     "execution_count": 16,
     "metadata": {},
     "output_type": "execute_result"
    }
   ],
   "source": [
    "#look at unique values\n",
    "df['salary_currency'].value_counts()"
   ]
  },
  {
   "cell_type": "code",
   "execution_count": 17,
   "metadata": {},
   "outputs": [],
   "source": [
    "#create arrays to store associated currency values\n",
    "USD = []\n",
    "EUR = []\n",
    "GBP = []\n",
    "INR = []\n",
    "Other_Currency = []"
   ]
  },
  {
   "cell_type": "code",
   "execution_count": 18,
   "metadata": {},
   "outputs": [],
   "source": [
    "#loop through columns to categorize currencies\n",
    "for currency in df['salary_currency']:\n",
    "    #set USD = 1 and all other currency arrays equal to zero at that postition\n",
    "    if currency == 'USD':\n",
    "        USD.append(1)\n",
    "        EUR.append(0)\n",
    "        GBP.append(0)\n",
    "        INR.append(0)\n",
    "        Other_Currency.append(0)\n",
    "    #set EUR = 1 and all other currency arrays equal to zero at that postition\n",
    "    elif currency == 'EUR':\n",
    "        USD.append(0)\n",
    "        EUR.append(1)\n",
    "        GBP.append(0)\n",
    "        INR.append(0)\n",
    "        Other_Currency.append(0)\n",
    "    #set GBP = 1 and all other currency arrays equal to zero at that postition\n",
    "    elif currency == 'GBP':\n",
    "        USD.append(0)\n",
    "        EUR.append(0)\n",
    "        GBP.append(1)\n",
    "        INR.append(0)\n",
    "        Other_Currency.append(0)\n",
    "    #set INR = 1 and all other currency arrays equal to zero at that postition\n",
    "    elif currency == 'INR':\n",
    "        USD.append(0)\n",
    "        EUR.append(0)\n",
    "        GBP.append(0)\n",
    "        INR.append(1)\n",
    "        Other_Currency.append(0)\n",
    "    #set Other Currency = 1 and all other currency arrays equal to zero at that postition\n",
    "    else:\n",
    "        USD.append(0)\n",
    "        EUR.append(0)\n",
    "        GBP.append(0)\n",
    "        INR.append(0)\n",
    "        Other_Currency.append(1)"
   ]
  },
  {
   "cell_type": "code",
   "execution_count": 19,
   "metadata": {},
   "outputs": [],
   "source": [
    "#make a column in the dataframe for each one of the currency arrays created in the loop above\n",
    "df['USD'] = USD\n",
    "df['EUR'] = EUR\n",
    "df['GBP'] = GBP\n",
    "df['INR'] = INR\n",
    "df['Other_Currency'] = Other_Currency"
   ]
  },
  {
   "cell_type": "code",
   "execution_count": 20,
   "metadata": {},
   "outputs": [],
   "source": [
    "#drop the salary currency column now that we have a column representing each currency\n",
    "df = df.drop('salary_currency',axis = 1)"
   ]
  },
  {
   "cell_type": "code",
   "execution_count": 22,
   "metadata": {},
   "outputs": [
    {
     "data": {
      "text/plain": [
       "US    332\n",
       "GB     44\n",
       "IN     29\n",
       "CA     29\n",
       "DE     25\n",
       "     ... \n",
       "HN      1\n",
       "BG      1\n",
       "LU      1\n",
       "KE      1\n",
       "IE      1\n",
       "Name: employee_residence, Length: 57, dtype: int64"
      ]
     },
     "execution_count": 22,
     "metadata": {},
     "output_type": "execute_result"
    }
   ],
   "source": [
    "#look at unique values\n",
    "df['employee_residence'].value_counts()"
   ]
  },
  {
   "cell_type": "code",
   "execution_count": 23,
   "metadata": {},
   "outputs": [],
   "source": [
    "#loop through entire column and define US or NOT\n",
    "for i in range(len(df['employee_residence'])):\n",
    "    if df['employee_residence'][i] == 'US':\n",
    "        df['employee_residence'][i] = 1\n",
    "    else:\n",
    "        df['employee_residence'][i] = 0"
   ]
  },
  {
   "cell_type": "code",
   "execution_count": 24,
   "metadata": {},
   "outputs": [],
   "source": [
    "#rename the dummy variable columns so we know what they mean\n",
    "#forgot to do it earlier in notebook for this column\n",
    "df = df.rename(columns={'employment_type' : 'full_time_employee', 'employee_residence' : 'US_resident'})"
   ]
  },
  {
   "cell_type": "code",
   "execution_count": 26,
   "metadata": {},
   "outputs": [
    {
     "data": {
      "text/plain": [
       "US    355\n",
       "GB     47\n",
       "CA     30\n",
       "DE     28\n",
       "IN     23\n",
       "FR     15\n",
       "ES     14\n",
       "GR     11\n",
       "JP      6\n",
       "PT      4\n",
       "NL      4\n",
       "PL      4\n",
       "AT      4\n",
       "AE      3\n",
       "AU      3\n",
       "BR      3\n",
       "MX      3\n",
       "TR      3\n",
       "LU      3\n",
       "PK      3\n",
       "DK      3\n",
       "NG      2\n",
       "RU      2\n",
       "SI      2\n",
       "IT      2\n",
       "CH      2\n",
       "CN      2\n",
       "CZ      2\n",
       "BE      2\n",
       "MY      1\n",
       "EE      1\n",
       "IQ      1\n",
       "HR      1\n",
       "CO      1\n",
       "SG      1\n",
       "VN      1\n",
       "DZ      1\n",
       "CL      1\n",
       "IL      1\n",
       "UA      1\n",
       "HU      1\n",
       "AS      1\n",
       "NZ      1\n",
       "KE      1\n",
       "IR      1\n",
       "MT      1\n",
       "HN      1\n",
       "RO      1\n",
       "MD      1\n",
       "IE      1\n",
       "Name: company_location, dtype: int64"
      ]
     },
     "execution_count": 26,
     "metadata": {},
     "output_type": "execute_result"
    }
   ],
   "source": [
    "#look at unique values\n",
    "df['company_location'].value_counts()"
   ]
  },
  {
   "cell_type": "code",
   "execution_count": 27,
   "metadata": {},
   "outputs": [],
   "source": [
    "#loop through entire column and define US or NOT\n",
    "for i in range(len(df['company_location'])):\n",
    "    if df['company_location'][i] == 'US':\n",
    "        df['company_location'][i] = 1\n",
    "    else:\n",
    "        df['company_location'][i] = 0"
   ]
  },
  {
   "cell_type": "code",
   "execution_count": 28,
   "metadata": {},
   "outputs": [],
   "source": [
    "#rename the dummy variable columns so we know what they mean\n",
    "df = df.rename(columns={'company_location' : 'US_location'})"
   ]
  },
  {
   "cell_type": "code",
   "execution_count": 30,
   "metadata": {},
   "outputs": [
    {
     "data": {
      "text/plain": [
       "M    325\n",
       "L    198\n",
       "S     83\n",
       "Name: company_size, dtype: int64"
      ]
     },
     "execution_count": 30,
     "metadata": {},
     "output_type": "execute_result"
    }
   ],
   "source": [
    "#look at unique values\n",
    "df['company_size'].value_counts()"
   ]
  },
  {
   "cell_type": "code",
   "execution_count": 31,
   "metadata": {},
   "outputs": [
    {
     "data": {
      "text/plain": [
       "L  M  S\n",
       "0  1  0    325\n",
       "1  0  0    198\n",
       "0  0  1     83\n",
       "dtype: int64"
      ]
     },
     "execution_count": 31,
     "metadata": {},
     "output_type": "execute_result"
    }
   ],
   "source": [
    "company_size = pd.DataFrame(df['company_size'].value_counts().reset_index())\n",
    "\n",
    "company_size_dummies = pd.get_dummies(df['company_size'])\n",
    "#Concat the dummy variables to the main dataset \n",
    "df = pd.concat([df, company_size_dummies], axis = 1)\n",
    "#and drop the original variable from the data\n",
    "df = df.drop('company_size', axis = 1)\n",
    "company_size_dummies.value_counts()"
   ]
  },
  {
   "cell_type": "code",
   "execution_count": 32,
   "metadata": {},
   "outputs": [],
   "source": [
    "#rename the dummy variable columns so we know what they mean\n",
    "df = df.rename(columns={'L' : 'Large_Company', 'M' : 'Midsize_Company', 'S' : 'Small_Company'})"
   ]
  },
  {
   "cell_type": "code",
   "execution_count": 34,
   "metadata": {},
   "outputs": [],
   "source": [
    "#output the feature engineered dataset to a new 'interim' .csv to make training and testing datasets\n",
    "df.to_csv(r'C:\\Users\\Danny Farone\\Documents\\GitHub\\Data-Science-Job-Salaries\\data\\interim\\ds_salaries_interim.csv', index=False)"
   ]
  }
 ],
 "metadata": {
  "kernelspec": {
   "display_name": "Python 3 (ipykernel)",
   "language": "python",
   "name": "python3"
  },
  "language_info": {
   "codemirror_mode": {
    "name": "ipython",
    "version": 3
   },
   "file_extension": ".py",
   "mimetype": "text/x-python",
   "name": "python",
   "nbconvert_exporter": "python",
   "pygments_lexer": "ipython3",
   "version": "3.9.13"
  }
 },
 "nbformat": 4,
 "nbformat_minor": 4
}
